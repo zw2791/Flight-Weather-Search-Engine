{
 "cells": [
  {
   "cell_type": "markdown",
   "metadata": {
    "id": "-Uomiq79p7IF",
    "pycharm": {
     "name": "#%% md\n"
    }
   },
   "source": [
    "## Load Libraries"
   ]
  },
  {
   "cell_type": "code",
   "execution_count": 1,
   "metadata": {
    "id": "Q3v81WLRp58U",
    "pycharm": {
     "is_executing": true,
     "name": "#%%\n"
    }
   },
   "outputs": [],
   "source": [
    "import pandas as pd\n",
    "import numpy as np\n",
    "import datetime "
   ]
  },
  {
   "cell_type": "code",
   "execution_count": 2,
   "metadata": {
    "pycharm": {
     "is_executing": true,
     "name": "#%%\n"
    }
   },
   "outputs": [],
   "source": [
    "# for web:\n",
    "from flask import Flask, render_template, redirect, url_for, request"
   ]
  },
  {
   "cell_type": "markdown",
   "metadata": {
    "id": "V-xBb3kZqKCI",
    "pycharm": {
     "name": "#%% md\n"
    }
   },
   "source": [
    "## Get Data from Data Warehouse"
   ]
  },
  {
   "cell_type": "code",
   "execution_count": 3,
   "metadata": {
    "id": "lQlaEwHXqKK7",
    "pycharm": {
     "name": "#%%\n"
    }
   },
   "outputs": [],
   "source": [
    "# read data \n",
    "df = pd.read_csv('Front end dataset.csv', encoding='cp1252')"
   ]
  },
  {
   "cell_type": "code",
   "execution_count": 4,
   "metadata": {
    "pycharm": {
     "name": "#%%\n"
    }
   },
   "outputs": [],
   "source": [
    "# drop column named 'B' from DataFrame\n",
    "# 'flight_date', 'departure', 'dicao', 'd_timezone', 'flight_status'\n",
    "droplist = ['Flight ID', 'Unnamed: 0']\n",
    "df.drop(droplist, axis=1, inplace=True)"
   ]
  },
  {
   "cell_type": "code",
   "execution_count": 5,
   "metadata": {
    "pycharm": {
     "name": "#%%\n"
    }
   },
   "outputs": [
    {
     "data": {
      "text/plain": [
       "(18582, 22)"
      ]
     },
     "execution_count": 5,
     "metadata": {},
     "output_type": "execute_result"
    }
   ],
   "source": [
    "df.shape"
   ]
  },
  {
   "cell_type": "code",
   "execution_count": 9,
   "metadata": {
    "scrolled": true
   },
   "outputs": [
    {
     "data": {
      "text/html": [
       "<div>\n",
       "<style scoped>\n",
       "    .dataframe tbody tr th:only-of-type {\n",
       "        vertical-align: middle;\n",
       "    }\n",
       "\n",
       "    .dataframe tbody tr th {\n",
       "        vertical-align: top;\n",
       "    }\n",
       "\n",
       "    .dataframe thead th {\n",
       "        text-align: right;\n",
       "    }\n",
       "</style>\n",
       "<table border=\"1\" class=\"dataframe\">\n",
       "  <thead>\n",
       "    <tr style=\"text-align: right;\">\n",
       "      <th></th>\n",
       "      <th>Arrival Airport ID</th>\n",
       "      <th>Departure Airport ID</th>\n",
       "      <th>Airline</th>\n",
       "      <th>Arriving scheduled time</th>\n",
       "      <th>Arriving terminal</th>\n",
       "      <th>Arriving gate</th>\n",
       "      <th>baggage line</th>\n",
       "      <th>Arrival airport</th>\n",
       "      <th>Departure scheduled time</th>\n",
       "      <th>Departure gate</th>\n",
       "      <th>...</th>\n",
       "      <th>Departure airpoty</th>\n",
       "      <th>Flight Status</th>\n",
       "      <th>Weather observed time</th>\n",
       "      <th>Temperature</th>\n",
       "      <th>Rain</th>\n",
       "      <th>Humidity</th>\n",
       "      <th>Clouds</th>\n",
       "      <th>Elevation</th>\n",
       "      <th>Visibility</th>\n",
       "      <th>Wind</th>\n",
       "    </tr>\n",
       "  </thead>\n",
       "  <tbody>\n",
       "    <tr>\n",
       "      <th>0</th>\n",
       "      <td>KABQ</td>\n",
       "      <td>KJFK</td>\n",
       "      <td>JetBlue Airways</td>\n",
       "      <td>2022-04-27T22:43:00+00:00</td>\n",
       "      <td>NaN</td>\n",
       "      <td>NaN</td>\n",
       "      <td>NaN</td>\n",
       "      <td>Albuquerque International</td>\n",
       "      <td>2022-04-27T19:30:00+00:00</td>\n",
       "      <td>NaN</td>\n",
       "      <td>...</td>\n",
       "      <td>John F Kennedy International</td>\n",
       "      <td>scheduled</td>\n",
       "      <td>2022-04-27 17:52:00+00:00</td>\n",
       "      <td>celsius: 23, fahrenheit: 73</td>\n",
       "      <td>NaN</td>\n",
       "      <td>percent: 31</td>\n",
       "      <td>base_feet_agl: 7000, base_meters_agl: 2134, co...</td>\n",
       "      <td>feet: 5315, meters: 1620</td>\n",
       "      <td>meters: 16,100, meters_float: 16100.0, miles: ...</td>\n",
       "      <td>degrees: 200, gust_kph: 39, gust_kts: 21.0, gu...</td>\n",
       "    </tr>\n",
       "  </tbody>\n",
       "</table>\n",
       "<p>1 rows × 22 columns</p>\n",
       "</div>"
      ],
      "text/plain": [
       "  Arrival Airport ID Departure Airport ID          Airline  \\\n",
       "0               KABQ                 KJFK  JetBlue Airways   \n",
       "\n",
       "     Arriving scheduled time Arriving terminal Arriving gate baggage line  \\\n",
       "0  2022-04-27T22:43:00+00:00               NaN           NaN          NaN   \n",
       "\n",
       "             Arrival airport   Departure scheduled time Departure gate  ...  \\\n",
       "0  Albuquerque International  2022-04-27T19:30:00+00:00            NaN  ...   \n",
       "\n",
       "              Departure airpoty  Flight Status      Weather observed time  \\\n",
       "0  John F Kennedy International      scheduled  2022-04-27 17:52:00+00:00   \n",
       "\n",
       "                   Temperature Rain     Humidity  \\\n",
       "0  celsius: 23, fahrenheit: 73  NaN  percent: 31   \n",
       "\n",
       "                                              Clouds  \\\n",
       "0  base_feet_agl: 7000, base_meters_agl: 2134, co...   \n",
       "\n",
       "                  Elevation  \\\n",
       "0  feet: 5315, meters: 1620   \n",
       "\n",
       "                                          Visibility  \\\n",
       "0  meters: 16,100, meters_float: 16100.0, miles: ...   \n",
       "\n",
       "                                                Wind  \n",
       "0  degrees: 200, gust_kph: 39, gust_kts: 21.0, gu...  \n",
       "\n",
       "[1 rows x 22 columns]"
      ]
     },
     "execution_count": 9,
     "metadata": {},
     "output_type": "execute_result"
    }
   ],
   "source": [
    "df.head(1)"
   ]
  },
  {
   "cell_type": "markdown",
   "metadata": {
    "id": "D5lHOOaxr1x6",
    "pycharm": {
     "name": "#%% md\n"
    }
   },
   "source": [
    "## search"
   ]
  },
  {
   "cell_type": "code",
   "execution_count": 10,
   "metadata": {
    "id": "tofazwCnrzQS",
    "pycharm": {
     "name": "#%%\n"
    }
   },
   "outputs": [
    {
     "name": "stdout",
     "output_type": "stream",
     "text": [
      " * Serving Flask app \"__main__\" (lazy loading)\n",
      " * Environment: production\n",
      "   WARNING: This is a development server. Do not use it in a production deployment.\n",
      "   Use a production WSGI server instead.\n",
      " * Debug mode: off\n"
     ]
    },
    {
     "name": "stderr",
     "output_type": "stream",
     "text": [
      " * Running on http://localhost:5080/ (Press CTRL+C to quit)\n",
      "127.0.0.1 - - [28/Apr/2022 19:18:16] \"\u001b[37mGET / HTTP/1.1\u001b[0m\" 200 -\n"
     ]
    }
   ],
   "source": [
    "app = Flask(__name__)\n",
    "\n",
    "@app.route(\"/\", methods=['POST', 'GET'])\n",
    "def home():\n",
    "    if request.method =='POST':\n",
    "        # print(request.form)\n",
    "        date = request.form[\"date\"]\n",
    "        depart = request.form[\"departure\"]\n",
    "        arrival = request.form[\"arrival\"]\n",
    "        flight_status = request.form[\"flight_status\"]\n",
    "        airline = request.form[\"airline\"]\n",
    "        #airline = request.form[\"airline\"]\n",
    "\n",
    "        #if arrival is None or arrival == '':\n",
    "            #return abort(404)\n",
    "        \n",
    "        #verify posts\n",
    "        print(type(date))\n",
    "        print('From '+depart+' to '+arrival)\n",
    "        \n",
    "        # create a temperary database for searching\n",
    "        flights = []\n",
    "        \n",
    "        # filtering the database\n",
    "        # ------------------------filter by date\n",
    "        flights = df[df['Departure scheduled time'].str.contains(date)]\n",
    "        print(flights.shape)\n",
    "        # ------------------------filter by dicao\n",
    "        flights = flights[flights['Departure Airport ID'] == 'K'+ depart.upper()]\n",
    "        print(flights.shape)\n",
    "        # ------------------------filter by aicao\n",
    "        flights = flights[flights['Arrival Airport ID'] == 'K'+ arrival.upper()]\n",
    "        print(flights.shape)\n",
    "        # ------------------------filter by status\n",
    "        if flight_status != 'none':\n",
    "            flights = flights[flights['Flight Status'] == flight_status]\n",
    "        print(flights.shape)\n",
    "        # ------------------------filter by airline\n",
    "        if airline != '':\n",
    "            flights = flights[flights['Airline'].str.contain(airline)]\n",
    "        \n",
    "        # clear old index\n",
    "        flights.index = np.arange(1, len(flights) + 1)\n",
    "        count = flights.shape[0]\n",
    "        \n",
    "        # return the final result\n",
    "        return render_template(\"table.html\", \n",
    "                           tables=[flights.to_html(classes='flights', index = True)], \n",
    "                           titles=flights.columns.values)\n",
    "    #else:\n",
    "    return render_template(\"simple.html\")\n",
    "\n",
    "\n",
    "# http://127.0.0.1:50xx\n",
    "if __name__ == '__main__':\n",
    "   app.run(host='localhost', port = 5080)"
   ]
  },
  {
   "cell_type": "code",
   "execution_count": null,
   "metadata": {},
   "outputs": [],
   "source": []
  }
 ],
 "metadata": {
  "colab": {
   "name": "Interface.ipynb",
   "provenance": []
  },
  "kernelspec": {
   "display_name": "Python 3 (ipykernel)",
   "language": "python",
   "name": "python3"
  },
  "language_info": {
   "codemirror_mode": {
    "name": "ipython",
    "version": 3
   },
   "file_extension": ".py",
   "mimetype": "text/x-python",
   "name": "python",
   "nbconvert_exporter": "python",
   "pygments_lexer": "ipython3",
   "version": "3.8.11"
  }
 },
 "nbformat": 4,
 "nbformat_minor": 1
}
