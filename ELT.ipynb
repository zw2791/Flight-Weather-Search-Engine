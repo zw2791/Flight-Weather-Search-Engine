{
 "cells": [
  {
   "cell_type": "markdown",
   "id": "99e6a570",
   "metadata": {},
   "source": [
    "## Checkwx API (Last updated: 4/27)"
   ]
  },
  {
   "cell_type": "markdown",
   "id": "ed519196",
   "metadata": {},
   "source": [
    "## Set up API Request"
   ]
  },
  {
   "cell_type": "code",
   "execution_count": 1,
   "id": "de5ad27b",
   "metadata": {},
   "outputs": [],
   "source": [
    "# quick setup\n",
    "api = 'https://api.aviationstack.com/v1/flights?access_key='\n",
    "key = '4ce1a691897a22b88b95e21247d6c83a'\n",
    "\n",
    "# flight date\n",
    "# f_d = \"2022-04-19\"\n",
    "# from where to where\n",
    "dep_icao = ['KJFK', 'KEWR', 'KLGA']\n",
    "# arr_icao = "
   ]
  },
  {
   "cell_type": "code",
   "execution_count": 22,
   "id": "bbe700de",
   "metadata": {},
   "outputs": [],
   "source": [
    "import requests, json\n",
    "import pandas as pd\n",
    "from pymongo import MongoClient\n",
    "import psycopg2"
   ]
  },
  {
   "cell_type": "markdown",
   "id": "d9239f48",
   "metadata": {},
   "source": [
    "## Make a List of Icaos\n"
   ]
  },
  {
   "cell_type": "code",
   "execution_count": 3,
   "id": "527976a0",
   "metadata": {},
   "outputs": [],
   "source": [
    "icaos = ['SPI', 'ABQ', 'LTS', 'AVL', 'AGS', 'AUS', 'GRB', 'BWI', 'BGR', 'BAD', 'BAB', 'LIT', 'BIL', 'BHM', 'LEX', 'BFI', 'BOI', 'BDL', 'BUF', 'CVS', 'BMI', 'CHS', 'CLT', 'MDW', 'ORD', 'RFD', 'CVG', 'COS', 'CLE', 'CAE', 'CBM', 'CRP', 'DFW', 'DAL', 'MSN', 'HNL', 'DAB', 'DEN', 'DSM', 'VPS', 'DTW', 'DLF', 'MGE', 'DOV', 'DBQ', 'DLH', 'DYS', 'EDW', 'OMA', 'ERI', 'FAI', 'SKA', 'FLL', 'FSM', 'FWA', 'AFW', 'FTW', 'BOS', 'MKE', 'PIA', 'IAH', 'ROC', 'GSP', 'GUS', 'GPT', 'ATL', 'HMN', 'HSV', 'IND', 'JAN', 'JAX', 'DAY', 'JFK', 'CMH', 'SNA', 'ADW', 'JLN', 'MCI', 'LGA', 'LFT', 'LFI', 'LAX', 'MSY', 'SDF', 'CHA', 'LBB', 'LUF', 'MCF', 'MHT', 'MBS', 'LAS', 'TCM', 'TYS', 'MEM', 'OAK', 'MIA', 'MSP', 'MOB', 'MLU', 'MGM', 'MUO', 'BNA', 'EWR', 'PHF', 'ORF', 'SJC', 'ONT', 'MCO', 'SFB', 'PBI', 'PHL', 'PHX', 'GSO', 'PIT', 'PDX', 'PWM', 'MLI', 'RDU', 'RND', 'HIB', 'RNO', 'RIC', 'AMA', 'LCK', 'ROA', 'WRB', 'RST', 'DCA', 'SMF', 'SLC', 'SAT', 'SAN', 'SFO', 'SRQ', 'SAV', 'BLV', 'SEA', 'GSB', 'SSC', 'SPS', 'SUX', 'SBN', 'RSW', 'SUS', 'GEG', 'SGF', 'STL', 'SYR', 'TLH', 'TPA', 'ANC', 'CID', 'PVD', 'TIK', 'TOL', 'SUU', 'TRI', 'HTS', 'TUS', 'TUL', 'PAM', 'END', 'VBG', 'IAD', 'SZL', 'ICT', 'OKC', 'HOU', 'FFO']"
   ]
  },
  {
   "cell_type": "markdown",
   "id": "97f8d4b9",
   "metadata": {},
   "source": [
    "## API  Setup"
   ]
  },
  {
   "cell_type": "code",
   "execution_count": 4,
   "id": "babec371",
   "metadata": {},
   "outputs": [],
   "source": [
    "hdr = \"?x-api-key=81701c75782e420185411f33ec\"\n",
    "\n",
    "url = \"https://api.checkwx.com/metar/K\"\n",
    "\n",
    "icao = 'SFO'\n",
    "\n",
    "resp1 = requests.get(url+icao+'/decoded'+hdr).json()"
   ]
  },
  {
   "cell_type": "code",
   "execution_count": 5,
   "id": "4eed9281",
   "metadata": {},
   "outputs": [
    {
     "data": {
      "text/plain": [
       "dict"
      ]
     },
     "execution_count": 5,
     "metadata": {},
     "output_type": "execute_result"
    }
   ],
   "source": [
    "type(resp1)"
   ]
  },
  {
   "cell_type": "code",
   "execution_count": 6,
   "id": "34ac475f",
   "metadata": {},
   "outputs": [
    {
     "name": "stdout",
     "output_type": "stream",
     "text": [
      "If you understand this simple output, it will be easy for you to create a dataframe\n",
      "Only when this short version is meaningful\n",
      "\n",
      "[{'barometer': {'hg': 30.11, 'hpa': 1020.0, 'kpa': 101.96, 'mb': 1019.62}, 'clouds': [{'base_feet_agl': 2300, 'base_meters_agl': 701, 'code': 'FEW', 'feet': 2300, 'meters': 701, 'text': 'Few'}, {'base_feet_agl': 3300, 'base_meters_agl': 1006, 'code': 'FEW', 'feet': 3300, 'meters': 1006, 'text': 'Few'}], 'dewpoint': {'celsius': 4, 'fahrenheit': 39}, 'elevation': {'feet': 7, 'meters': 2}, 'flight_category': 'VFR', 'humidity': {'percent': 45}, 'icao': 'KSFO', 'observed': '2022-04-28T21:56Z', 'raw_text': 'KSFO 282156Z 29027G48KT 10SM FEW023 FEW033 16/04 A3011 RMK AO2 PK WND 30048/2154 SLP196 T01560044', 'station': {'geometry': {'coordinates': [-122.375, 37.618999], 'type': 'Point'}, 'location': 'San Francisco, CA, USA', 'name': 'San Francisco International Airport', 'type': 'Airport'}, 'temperature': {'celsius': 16, 'fahrenheit': 61}, 'visibility': {'meters': '16,100', 'meters_float': 16100.0, 'miles': '10', 'miles_float': 10.0}, 'wind': {'degrees': 290, 'gust_kph': 89, 'gust_kts': 48.0, 'gust_mph': 55, 'gust_mps': 25, 'speed_kph': 50, 'speed_kts': 27, 'speed_mph': 31, 'speed_mps': 14}}]\n"
     ]
    }
   ],
   "source": [
    "# a not decoded response\n",
    "# kind of confused\n",
    "print('If you understand this simple output, it will be easy for you to create a dataframe')\n",
    "print('Only when this short version is meaningful\\n')\n",
    "print(resp1['data'])"
   ]
  },
  {
   "cell_type": "markdown",
   "id": "2dcbf7f5",
   "metadata": {},
   "source": [
    "## Setup Pymongo and Store data into MongoDB"
   ]
  },
  {
   "cell_type": "code",
   "execution_count": 7,
   "id": "8e21ac85",
   "metadata": {},
   "outputs": [],
   "source": [
    "client = MongoClient()\n",
    "# Getting a Database\n",
    "db = client['1234']\n",
    "# Getting a Collection\n",
    "collection = db['1234']"
   ]
  },
  {
   "cell_type": "markdown",
   "id": "2930340a",
   "metadata": {},
   "source": [
    "## Insert"
   ]
  },
  {
   "cell_type": "code",
   "execution_count": 8,
   "id": "3d9d5c4e",
   "metadata": {},
   "outputs": [
    {
     "name": "stdout",
     "output_type": "stream",
     "text": [
      "169\n"
     ]
    }
   ],
   "source": [
    "weather = []\n",
    "\n",
    "for i in icaos:\n",
    "    # Extract from Checkwx API \n",
    "    resp = requests.get(url+i+'/decoded'+hdr).json()\n",
    "    weather.append(resp)\n",
    "    \n",
    "print(len(weather))"
   ]
  },
  {
   "cell_type": "code",
   "execution_count": 9,
   "id": "a5f0cea5",
   "metadata": {},
   "outputs": [
    {
     "name": "stdout",
     "output_type": "stream",
     "text": [
      "Total number of documents :  332\n"
     ]
    }
   ],
   "source": [
    "for i in range(0,len(weather)):\n",
    "    # exclude none values\n",
    "    if weather[i]['data'] != []:\n",
    "        collection.insert_many(weather[i]['data'])\n",
    "        \n",
    "# number of documents in the collection\n",
    "total_count = collection.count_documents({})\n",
    "print(\"Total number of documents : \", total_count)"
   ]
  },
  {
   "cell_type": "markdown",
   "id": "27fa8544",
   "metadata": {},
   "source": [
    "## Double check the dataset"
   ]
  },
  {
   "cell_type": "code",
   "execution_count": 11,
   "id": "46d4aa68",
   "metadata": {},
   "outputs": [
    {
     "name": "stdout",
     "output_type": "stream",
     "text": [
      "{'_id': ObjectId('626703681ef0f560a9b94e10'), 'barometer': {'hg': 29.98, 'hpa': 1015.0, 'kpa': 101.52, 'mb': 1015.22}, 'ceiling': {'base_feet_agl': 3500, 'base_meters_agl': 1067, 'code': 'BKN', 'feet': 3500, 'meters': 1067, 'text': 'Broken'}, 'clouds': [{'base_feet_agl': 400, 'base_meters_agl': 122, 'code': 'FEW', 'feet': 400, 'meters': 122, 'text': 'Few'}, {'base_feet_agl': 2000, 'base_meters_agl': 610, 'code': 'SCT', 'feet': 2000, 'meters': 610, 'text': 'Scattered'}, {'base_feet_agl': 3500, 'base_meters_agl': 1067, 'code': 'BKN', 'feet': 3500, 'meters': 1067, 'text': 'Broken'}, {'base_feet_agl': 4200, 'base_meters_agl': 1280, 'code': 'OVC', 'feet': 4200, 'meters': 1280, 'text': 'Overcast'}], 'conditions': [{'code': 'RA', 'prefix': '-', 'text': 'Light Rain'}], 'dewpoint': {'celsius': 17, 'fahrenheit': 63}, 'elevation': {'feet': 820, 'meters': 250}, 'flight_category': 'MVFR', 'humidity': {'percent': 88}, 'icao': 'KFFO', 'observed': '2022-04-25T19:50Z', 'raw_text': 'KFFO 251950Z 28014G23KT 5SM -RA FEW004 SCT020 BKN035 OVC042 19/17 A2998 RMK AO2A SLP152', 'station': {'geometry': {'coordinates': [-84.048302, 39.826099], 'type': 'Point'}, 'location': 'Dayton, OH, USA', 'name': 'Wright-Patterson Air Force Base', 'type': 'Airport'}, 'temperature': {'celsius': 19, 'fahrenheit': 66}, 'visibility': {'meters': '8,000', 'meters_float': 8000.0, 'miles': '5', 'miles_float': 5.0}, 'wind': {'degrees': 280, 'gust_kph': 43, 'gust_kts': 23.0, 'gust_mph': 26, 'gust_mps': 12, 'speed_kph': 26, 'speed_kts': 14, 'speed_mph': 16, 'speed_mps': 7}}\n"
     ]
    }
   ],
   "source": [
    "# find name's value in location\n",
    "print(collection.find_one({\"station.name\": \"Wright-Patterson Air Force Base\"}))"
   ]
  },
  {
   "cell_type": "code",
   "execution_count": 12,
   "id": "2f3d4bae",
   "metadata": {
    "scrolled": true
   },
   "outputs": [
    {
     "name": "stdout",
     "output_type": "stream",
     "text": [
      "{'_id': ObjectId('626703681ef0f560a9b94d9a'), 'barometer': {'hg': 30.28, 'hpa': 1025.0, 'kpa': 102.54, 'mb': 1025.42}, 'clouds': [{'base_feet_agl': 5000, 'base_meters_agl': 1524, 'code': 'SCT', 'feet': 5000, 'meters': 1524, 'text': 'Scattered'}, {'base_feet_agl': 25000, 'base_meters_agl': 7620, 'code': 'SCT', 'feet': 25000, 'meters': 7620, 'text': 'Scattered'}], 'dewpoint': {'celsius': -3, 'fahrenheit': 27}, 'elevation': {'feet': 981, 'meters': 299}, 'flight_category': 'VFR', 'humidity': {'percent': 35}, 'icao': 'KOMA', 'observed': '2022-04-25T19:52Z', 'raw_text': 'KOMA 251952Z 32015G26KT 10SM SCT050 SCT250 12/M03 A3028 RMK AO2 PK WND 33031/1920 SLP257 T01171033', 'station': {'geometry': {'coordinates': [-95.894096, 41.3032], 'type': 'Point'}, 'location': 'Omaha, NE, USA', 'name': 'Eppley Airfield', 'type': 'Airport'}, 'temperature': {'celsius': 12, 'fahrenheit': 54}, 'visibility': {'meters': '16,100', 'meters_float': 16100.0, 'miles': '10', 'miles_float': 10.0}, 'wind': {'degrees': 320, 'gust_kph': 48, 'gust_kts': 26.0, 'gust_mph': 30, 'gust_mps': 13, 'speed_kph': 28, 'speed_kts': 15, 'speed_mph': 17, 'speed_mps': 8}}\n"
     ]
    }
   ],
   "source": [
    "# find hd's value in barometer\n",
    "print(collection.find_one({\"barometer.hg\": 30.28}))"
   ]
  },
  {
   "cell_type": "markdown",
   "id": "f6c8010e",
   "metadata": {},
   "source": [
    "## Extract Flight Data From API"
   ]
  },
  {
   "cell_type": "code",
   "execution_count": 13,
   "id": "7efab57e",
   "metadata": {},
   "outputs": [],
   "source": [
    "# quick setup\n",
    "api = 'https://api.aviationstack.com/v1/flights?access_key='\n",
    "key = '957d6a3b264de3812c9b69a8a82a014b'\n",
    "\n",
    "# flight date\n",
    "# f_d = \"2022-04-19\"\n",
    "# from where to where\n",
    "dep_icao = ['KJFK', 'KEWR', 'KLGA']\n",
    "# arr_icao = "
   ]
  },
  {
   "cell_type": "code",
   "execution_count": 14,
   "id": "e96d4139",
   "metadata": {},
   "outputs": [],
   "source": [
    "# (re)define a df\n",
    "df = pd.DataFrame()\n",
    "\n",
    "# give unique index to every flight\n",
    "flight_index = 'RTF'\n",
    "count = 0\n",
    "\n",
    "# get all the flights depart from JFK or EWR\n",
    "for i in dep_icao:\n",
    "    for r in icaos:\n",
    "      # edit url to be relavent to our conrerns\n",
    "      url = api+key+\"&dep_icao=\"+i+\"&arr_icao=K\"+r\n",
    "      # access api results\n",
    "      res_avi = requests.get(url).json() # list\n",
    "\n",
    "      # extract variables from api data\n",
    "      for n in res_avi['data']:\n",
    "        # ------ flight info -------\n",
    "        flight_date = n['flight_date']\n",
    "        flight_status = n['flight_status']\n",
    "        delay = n['arrival']['delay']\n",
    "\n",
    "        # ------ location info -------\n",
    "        # departure place\n",
    "        departure = n['departure']['airport']\n",
    "        dicao = n['departure']['icao']\n",
    "        d_delay = n['departure']['delay']\n",
    "        d_scheduled = n['departure']['scheduled']\n",
    "        d_estimated = n['departure']['estimated']\n",
    "        d_actual = n['departure']['actual']\n",
    "        d_timezone = n['departure']['timezone']\n",
    "        d_terminal = n['departure']['terminal']\n",
    "        d_gate = n['departure']['gate']\n",
    "        # arrival place\n",
    "        arrival = n['arrival']['airport']\n",
    "        aicao = n['arrival']['icao']\n",
    "        a_scheduled = n['arrival']['scheduled']\n",
    "        a_estimated = n['arrival']['estimated']\n",
    "        a_actual = n['arrival']['actual']\n",
    "        a_timezone = n['arrival']['timezone']\n",
    "        a_terminal = n['arrival']['terminal']\n",
    "        a_gate = n['arrival']['gate']\n",
    "        a_baggage = n['arrival']['baggage']\n",
    "\n",
    "        # ------ airline info -------\n",
    "        airline_company = n['airline']['name']\n",
    "\n",
    "        # count + 1 for every read\n",
    "        count += 1\n",
    "\n",
    "        # save variables into a dataframe\n",
    "        df = df.append({\n",
    "            # index\n",
    "              'flight_id': (flight_index+str(count)),\n",
    "            # flight info\n",
    "              'flight_date':flight_date, \n",
    "              'delay':delay,\n",
    "              'flight_status':flight_status,\n",
    "              'airline_company':airline_company,\n",
    "            # trip infor\n",
    "              'departure':departure, 'arrival':arrival,\n",
    "              'dicao':dicao, 'aicao':aicao,\n",
    "              'd_timezone':d_timezone, 'a_timezone':a_timezone,\n",
    "              'd_gate':d_gate, 'a_gate':a_gate, \n",
    "              'd_terminal':d_terminal, 'a_terminal':a_terminal,\n",
    "              'a_baggage':a_baggage,\n",
    "              'd_scheduled':d_scheduled, 'a_scheduled':a_scheduled,\n",
    "              'd_estimated':d_estimated, 'a_estimated':a_estimated,\n",
    "              'd_actual':d_actual, 'a_actual':a_actual},\n",
    "              ignore_index = True)\n"
   ]
  },
  {
   "cell_type": "markdown",
   "id": "3f7eb30c",
   "metadata": {},
   "source": [
    "## Inspect df"
   ]
  },
  {
   "cell_type": "code",
   "execution_count": 15,
   "id": "10766018",
   "metadata": {},
   "outputs": [
    {
     "data": {
      "text/plain": [
       "(18598, 22)"
      ]
     },
     "execution_count": 15,
     "metadata": {},
     "output_type": "execute_result"
    }
   ],
   "source": [
    "df.shape"
   ]
  },
  {
   "cell_type": "code",
   "execution_count": 16,
   "id": "f8b2c40f",
   "metadata": {},
   "outputs": [
    {
     "name": "stdout",
     "output_type": "stream",
     "text": [
      "<class 'pandas.core.frame.DataFrame'>\n",
      "RangeIndex: 18598 entries, 0 to 18597\n",
      "Data columns (total 22 columns):\n",
      " #   Column           Non-Null Count  Dtype \n",
      "---  ------           --------------  ----- \n",
      " 0   flight_id        18598 non-null  object\n",
      " 1   flight_date      18598 non-null  object\n",
      " 2   delay            5513 non-null   object\n",
      " 3   flight_status    18592 non-null  object\n",
      " 4   airline_company  18598 non-null  object\n",
      " 5   departure        18598 non-null  object\n",
      " 6   arrival          18597 non-null  object\n",
      " 7   dicao            18598 non-null  object\n",
      " 8   aicao            18598 non-null  object\n",
      " 9   d_timezone       18598 non-null  object\n",
      " 10  a_timezone       18597 non-null  object\n",
      " 11  d_gate           17020 non-null  object\n",
      " 12  a_gate           16433 non-null  object\n",
      " 13  d_terminal       14236 non-null  object\n",
      " 14  a_terminal       17321 non-null  object\n",
      " 15  a_baggage        7329 non-null   object\n",
      " 16  d_scheduled      18598 non-null  object\n",
      " 17  a_scheduled      18598 non-null  object\n",
      " 18  d_estimated      18598 non-null  object\n",
      " 19  a_estimated      18598 non-null  object\n",
      " 20  d_actual         16558 non-null  object\n",
      " 21  a_actual         13798 non-null  object\n",
      "dtypes: object(22)\n",
      "memory usage: 3.1+ MB\n"
     ]
    }
   ],
   "source": [
    "df.info()"
   ]
  },
  {
   "cell_type": "code",
   "execution_count": 17,
   "id": "615c8a0d",
   "metadata": {},
   "outputs": [
    {
     "data": {
      "text/plain": [
       "delay            13085\n",
       "flight_status        6\n",
       "arrival              1\n",
       "a_timezone           1\n",
       "d_gate            1578\n",
       "a_gate            2165\n",
       "d_terminal        4362\n",
       "a_terminal        1277\n",
       "a_baggage        11269\n",
       "d_actual          2040\n",
       "a_actual          4800\n",
       "dtype: int64"
      ]
     },
     "execution_count": 17,
     "metadata": {},
     "output_type": "execute_result"
    }
   ],
   "source": [
    "# check na\n",
    "df.isnull().sum()[df.isnull().sum()>0]"
   ]
  },
  {
   "cell_type": "code",
   "execution_count": 18,
   "id": "ccd35cf7",
   "metadata": {},
   "outputs": [
    {
     "data": {
      "text/html": [
       "<div>\n",
       "<style scoped>\n",
       "    .dataframe tbody tr th:only-of-type {\n",
       "        vertical-align: middle;\n",
       "    }\n",
       "\n",
       "    .dataframe tbody tr th {\n",
       "        vertical-align: top;\n",
       "    }\n",
       "\n",
       "    .dataframe thead th {\n",
       "        text-align: right;\n",
       "    }\n",
       "</style>\n",
       "<table border=\"1\" class=\"dataframe\">\n",
       "  <thead>\n",
       "    <tr style=\"text-align: right;\">\n",
       "      <th></th>\n",
       "      <th>flight_id</th>\n",
       "      <th>flight_date</th>\n",
       "      <th>delay</th>\n",
       "      <th>flight_status</th>\n",
       "      <th>airline_company</th>\n",
       "      <th>departure</th>\n",
       "      <th>arrival</th>\n",
       "      <th>dicao</th>\n",
       "      <th>aicao</th>\n",
       "      <th>d_timezone</th>\n",
       "      <th>...</th>\n",
       "      <th>a_gate</th>\n",
       "      <th>d_terminal</th>\n",
       "      <th>a_terminal</th>\n",
       "      <th>a_baggage</th>\n",
       "      <th>d_scheduled</th>\n",
       "      <th>a_scheduled</th>\n",
       "      <th>d_estimated</th>\n",
       "      <th>a_estimated</th>\n",
       "      <th>d_actual</th>\n",
       "      <th>a_actual</th>\n",
       "    </tr>\n",
       "  </thead>\n",
       "  <tbody>\n",
       "    <tr>\n",
       "      <th>0</th>\n",
       "      <td>RTF1</td>\n",
       "      <td>2022-04-28</td>\n",
       "      <td>None</td>\n",
       "      <td>scheduled</td>\n",
       "      <td>JetBlue Airways</td>\n",
       "      <td>John F Kennedy International</td>\n",
       "      <td>Albuquerque International</td>\n",
       "      <td>KJFK</td>\n",
       "      <td>KABQ</td>\n",
       "      <td>America/New_York</td>\n",
       "      <td>...</td>\n",
       "      <td>None</td>\n",
       "      <td>5</td>\n",
       "      <td>None</td>\n",
       "      <td>None</td>\n",
       "      <td>2022-04-28T19:30:00+00:00</td>\n",
       "      <td>2022-04-28T22:43:00+00:00</td>\n",
       "      <td>2022-04-28T19:30:00+00:00</td>\n",
       "      <td>2022-04-28T22:43:00+00:00</td>\n",
       "      <td>None</td>\n",
       "      <td>None</td>\n",
       "    </tr>\n",
       "    <tr>\n",
       "      <th>1</th>\n",
       "      <td>RTF2</td>\n",
       "      <td>2022-04-28</td>\n",
       "      <td>None</td>\n",
       "      <td>scheduled</td>\n",
       "      <td>Qatar Airways</td>\n",
       "      <td>John F Kennedy International</td>\n",
       "      <td>Albuquerque International</td>\n",
       "      <td>KJFK</td>\n",
       "      <td>KABQ</td>\n",
       "      <td>America/New_York</td>\n",
       "      <td>...</td>\n",
       "      <td>None</td>\n",
       "      <td>5</td>\n",
       "      <td>None</td>\n",
       "      <td>None</td>\n",
       "      <td>2022-04-28T19:30:00+00:00</td>\n",
       "      <td>2022-04-28T22:43:00+00:00</td>\n",
       "      <td>2022-04-28T19:30:00+00:00</td>\n",
       "      <td>2022-04-28T22:43:00+00:00</td>\n",
       "      <td>None</td>\n",
       "      <td>None</td>\n",
       "    </tr>\n",
       "    <tr>\n",
       "      <th>2</th>\n",
       "      <td>RTF3</td>\n",
       "      <td>2022-04-28</td>\n",
       "      <td>None</td>\n",
       "      <td>scheduled</td>\n",
       "      <td>Etihad Airways</td>\n",
       "      <td>John F Kennedy International</td>\n",
       "      <td>Albuquerque International</td>\n",
       "      <td>KJFK</td>\n",
       "      <td>KABQ</td>\n",
       "      <td>America/New_York</td>\n",
       "      <td>...</td>\n",
       "      <td>None</td>\n",
       "      <td>5</td>\n",
       "      <td>None</td>\n",
       "      <td>None</td>\n",
       "      <td>2022-04-28T19:30:00+00:00</td>\n",
       "      <td>2022-04-28T22:43:00+00:00</td>\n",
       "      <td>2022-04-28T19:30:00+00:00</td>\n",
       "      <td>2022-04-28T22:43:00+00:00</td>\n",
       "      <td>None</td>\n",
       "      <td>None</td>\n",
       "    </tr>\n",
       "    <tr>\n",
       "      <th>3</th>\n",
       "      <td>RTF4</td>\n",
       "      <td>2022-04-28</td>\n",
       "      <td>None</td>\n",
       "      <td>scheduled</td>\n",
       "      <td>Singapore Airlines</td>\n",
       "      <td>John F Kennedy International</td>\n",
       "      <td>Albuquerque International</td>\n",
       "      <td>KJFK</td>\n",
       "      <td>KABQ</td>\n",
       "      <td>America/New_York</td>\n",
       "      <td>...</td>\n",
       "      <td>None</td>\n",
       "      <td>5</td>\n",
       "      <td>None</td>\n",
       "      <td>None</td>\n",
       "      <td>2022-04-28T19:30:00+00:00</td>\n",
       "      <td>2022-04-28T22:43:00+00:00</td>\n",
       "      <td>2022-04-28T19:30:00+00:00</td>\n",
       "      <td>2022-04-28T22:43:00+00:00</td>\n",
       "      <td>None</td>\n",
       "      <td>None</td>\n",
       "    </tr>\n",
       "    <tr>\n",
       "      <th>4</th>\n",
       "      <td>RTF5</td>\n",
       "      <td>2022-04-28</td>\n",
       "      <td>None</td>\n",
       "      <td>scheduled</td>\n",
       "      <td>Emirates</td>\n",
       "      <td>John F Kennedy International</td>\n",
       "      <td>Albuquerque International</td>\n",
       "      <td>KJFK</td>\n",
       "      <td>KABQ</td>\n",
       "      <td>America/New_York</td>\n",
       "      <td>...</td>\n",
       "      <td>None</td>\n",
       "      <td>5</td>\n",
       "      <td>None</td>\n",
       "      <td>None</td>\n",
       "      <td>2022-04-28T19:30:00+00:00</td>\n",
       "      <td>2022-04-28T22:43:00+00:00</td>\n",
       "      <td>2022-04-28T19:30:00+00:00</td>\n",
       "      <td>2022-04-28T22:43:00+00:00</td>\n",
       "      <td>None</td>\n",
       "      <td>None</td>\n",
       "    </tr>\n",
       "  </tbody>\n",
       "</table>\n",
       "<p>5 rows × 22 columns</p>\n",
       "</div>"
      ],
      "text/plain": [
       "  flight_id flight_date delay flight_status     airline_company  \\\n",
       "0      RTF1  2022-04-28  None     scheduled     JetBlue Airways   \n",
       "1      RTF2  2022-04-28  None     scheduled       Qatar Airways   \n",
       "2      RTF3  2022-04-28  None     scheduled      Etihad Airways   \n",
       "3      RTF4  2022-04-28  None     scheduled  Singapore Airlines   \n",
       "4      RTF5  2022-04-28  None     scheduled            Emirates   \n",
       "\n",
       "                      departure                    arrival dicao aicao  \\\n",
       "0  John F Kennedy International  Albuquerque International  KJFK  KABQ   \n",
       "1  John F Kennedy International  Albuquerque International  KJFK  KABQ   \n",
       "2  John F Kennedy International  Albuquerque International  KJFK  KABQ   \n",
       "3  John F Kennedy International  Albuquerque International  KJFK  KABQ   \n",
       "4  John F Kennedy International  Albuquerque International  KJFK  KABQ   \n",
       "\n",
       "         d_timezone  ... a_gate d_terminal a_terminal a_baggage  \\\n",
       "0  America/New_York  ...   None          5       None      None   \n",
       "1  America/New_York  ...   None          5       None      None   \n",
       "2  America/New_York  ...   None          5       None      None   \n",
       "3  America/New_York  ...   None          5       None      None   \n",
       "4  America/New_York  ...   None          5       None      None   \n",
       "\n",
       "                 d_scheduled                a_scheduled  \\\n",
       "0  2022-04-28T19:30:00+00:00  2022-04-28T22:43:00+00:00   \n",
       "1  2022-04-28T19:30:00+00:00  2022-04-28T22:43:00+00:00   \n",
       "2  2022-04-28T19:30:00+00:00  2022-04-28T22:43:00+00:00   \n",
       "3  2022-04-28T19:30:00+00:00  2022-04-28T22:43:00+00:00   \n",
       "4  2022-04-28T19:30:00+00:00  2022-04-28T22:43:00+00:00   \n",
       "\n",
       "                 d_estimated                a_estimated d_actual a_actual  \n",
       "0  2022-04-28T19:30:00+00:00  2022-04-28T22:43:00+00:00     None     None  \n",
       "1  2022-04-28T19:30:00+00:00  2022-04-28T22:43:00+00:00     None     None  \n",
       "2  2022-04-28T19:30:00+00:00  2022-04-28T22:43:00+00:00     None     None  \n",
       "3  2022-04-28T19:30:00+00:00  2022-04-28T22:43:00+00:00     None     None  \n",
       "4  2022-04-28T19:30:00+00:00  2022-04-28T22:43:00+00:00     None     None  \n",
       "\n",
       "[5 rows x 22 columns]"
      ]
     },
     "execution_count": 18,
     "metadata": {},
     "output_type": "execute_result"
    }
   ],
   "source": [
    "df.head()"
   ]
  },
  {
   "cell_type": "code",
   "execution_count": 19,
   "id": "c5c0ee0b",
   "metadata": {},
   "outputs": [
    {
     "data": {
      "text/plain": [
       "18598"
      ]
     },
     "execution_count": 19,
     "metadata": {},
     "output_type": "execute_result"
    }
   ],
   "source": [
    "len(df)"
   ]
  },
  {
   "cell_type": "markdown",
   "id": "a64698e9",
   "metadata": {},
   "source": [
    "### Let's see how many flights are in each airport"
   ]
  },
  {
   "cell_type": "code",
   "execution_count": 20,
   "id": "53638df7",
   "metadata": {},
   "outputs": [
    {
     "name": "stdout",
     "output_type": "stream",
     "text": [
      "Newark Liberty International    6551\n",
      "John F Kennedy International    6032\n",
      "La Guardia                      6015\n",
      "Name: departure, dtype: int64\n"
     ]
    }
   ],
   "source": [
    "print(df['departure'].value_counts())"
   ]
  },
  {
   "cell_type": "markdown",
   "id": "09796df9",
   "metadata": {},
   "source": [
    "## SQL Database Setup\n"
   ]
  },
  {
   "cell_type": "code",
   "execution_count": 23,
   "id": "71ab56cf",
   "metadata": {},
   "outputs": [
    {
     "name": "stdout",
     "output_type": "stream",
     "text": [
      "Successfully Connected to the PostgreSQL database!Yeah!!🎉🎉🎉\n"
     ]
    }
   ],
   "source": [
    "print('Successfully Connected to the PostgreSQL database!Yeah!!🎉🎉🎉')\n",
    "\n",
    "# colab cannot connect to localhost so plz\n",
    "# switch to Jupyter Notebook\n",
    "conn = psycopg2.connect(\n",
    "    host=\"localhost\",\n",
    "    port='5432',\n",
    "    # name of database\n",
    "    # you need to have the same one\n",
    "    database=\"project\",\n",
    "    user=\"postgres\",\n",
    "    password=\"123\")"
   ]
  },
  {
   "cell_type": "code",
   "execution_count": 24,
   "id": "5a753db4",
   "metadata": {},
   "outputs": [],
   "source": [
    "# create a cursor\n",
    "cur = conn.cursor()\n",
    "cur.execute('rollback;')"
   ]
  },
  {
   "cell_type": "code",
   "execution_count": 25,
   "id": "f915d1aa",
   "metadata": {},
   "outputs": [],
   "source": [
    "# clear all tables before creating tables\n",
    "cur.execute('DROP TABLE IF EXISTS flight CASCADE;')\n",
    "cur.execute('DROP TABLE IF EXISTS trip CASCADE;')\n",
    "cur.execute('DROP TABLE IF EXISTS departure CASCADE;')\n",
    "cur.execute('DROP TABLE IF EXISTS arrival CASCADE;')"
   ]
  },
  {
   "cell_type": "markdown",
   "id": "eb8a16f5",
   "metadata": {},
   "source": [
    "## Create Relational Tables\n"
   ]
  },
  {
   "cell_type": "code",
   "execution_count": 26,
   "id": "b446d51c",
   "metadata": {},
   "outputs": [],
   "source": [
    "create_flight = \"\"\" CREATE TABLE flight (\n",
    "                            flight_id varchar(15) NOT NULL,\n",
    "                            flight_date varchar(50),\n",
    "                            flight_status varchar(10),\n",
    "                            delay int,\n",
    "                            airline_company varchar(50),\n",
    "                            PRIMARY KEY (flight_id)\n",
    "                            )\"\"\"\n",
    "\n",
    "create_trip = \"\"\" CREATE TABLE trip (\n",
    "                            flight_id varchar(15) NOT NULL,\n",
    "                            dicao varchar(5),\n",
    "                            aicao varchar(5),\n",
    "                            PRIMARY KEY (flight_id),\n",
    "                            FOREIGN KEY (flight_id) REFERENCES flight (flight_id)\n",
    "                            )\"\"\"\n",
    "\n",
    "create_departure = \"\"\" CREATE TABLE departure (\n",
    "                            flight_id varchar(15) NOT NULL,\n",
    "                            departure varchar(100),\n",
    "                            dicao varchar(5),\n",
    "                            d_terminal varchar(6),\n",
    "                            d_gate varchar(5),\n",
    "                            d_scheduled varchar(50),\n",
    "                            d_estimated varchar(50),\n",
    "                            d_actual varchar(50),\n",
    "                            PRIMARY KEY (flight_id),\n",
    "                            FOREIGN KEY (flight_id) REFERENCES trip (flight_id)\n",
    "                            )\"\"\"\n",
    "\n",
    "create_arrival = \"\"\" CREATE TABLE arrival (\n",
    "                            flight_id varchar(15) NOT NULL,\n",
    "                            arrival varchar(100),\n",
    "                            aicao varchar(5),\n",
    "                            a_baggage varchar(10),\n",
    "                            a_terminal varchar(6),\n",
    "                            a_gate varchar(5),\n",
    "                            a_scheduled varchar(50),\n",
    "                            a_estimated varchar(50),\n",
    "                            a_actual varchar(50),\n",
    "                            PRIMARY KEY (flight_id),\n",
    "                            FOREIGN KEY (flight_id) REFERENCES trip (flight_id)\n",
    "                            )\"\"\"\n",
    "\n",
    "\n",
    "cur.execute(create_flight)\n",
    "cur.execute(create_trip)\n",
    "cur.execute(create_departure)\n",
    "cur.execute(create_arrival)\n",
    "\n",
    "conn.commit()"
   ]
  },
  {
   "cell_type": "code",
   "execution_count": 27,
   "id": "91eccbe7",
   "metadata": {},
   "outputs": [],
   "source": [
    "cur.execute('rollback;')"
   ]
  },
  {
   "cell_type": "markdown",
   "id": "422bed69",
   "metadata": {},
   "source": [
    "## Insert Data into SQL database\n"
   ]
  },
  {
   "cell_type": "code",
   "execution_count": 28,
   "id": "02e4c2ee",
   "metadata": {},
   "outputs": [],
   "source": [
    "def insert_into_table(curr,\n",
    "                      # table 1\n",
    "                      flight_id, flight_date, flight_status, delay, airline_company,\n",
    "                      # table 2\n",
    "                      dicao, aicao,\n",
    "                      # table 3\n",
    "                      departure, d_terminal, d_gate,\n",
    "                      d_scheduled, d_estimated, d_actual,\n",
    "                      # table 4\n",
    "                      arrival, a_terminal, a_gate,\n",
    "                      a_baggage, a_scheduled, a_estimated, a_actual):\n",
    "    \n",
    "    \n",
    "    # table 1\n",
    "    insert_into_flight = (\"\"\"INSERT INTO flight (flight_id, flight_date, flight_status,\n",
    "                                                 delay, airline_company)\n",
    "                                                 VALUES(%s,%s,%s,%s,%s);\"\"\")\n",
    "    row_to_insert1 = (flight_id, flight_date, flight_status, delay, airline_company)\n",
    "    curr.execute(insert_into_flight, row_to_insert1)\n",
    "    \n",
    "    \n",
    "    # table 2\n",
    "    insert_into_trip = (\"\"\"INSERT INTO trip (flight_id, dicao, aicao)\n",
    "                                                 VALUES(%s,%s,%s);\"\"\")\n",
    "    row_to_insert2 = (flight_id, dicao, aicao)\n",
    "    curr.execute(insert_into_trip, row_to_insert2)\n",
    "    \n",
    "    \n",
    "    # table 3\n",
    "    insert_into_departure = (\"\"\"INSERT INTO departure (flight_id, departure, dicao, d_terminal, d_gate,\n",
    "                                                       d_scheduled, d_estimated, d_actual)\n",
    "                                                       VALUES(%s,%s,%s,%s,%s,%s,%s,%s);\"\"\")\n",
    "    row_to_insert3 = (flight_id, departure, dicao, d_terminal, d_gate, d_scheduled, d_estimated, d_actual)\n",
    "    curr.execute(insert_into_departure, row_to_insert3)\n",
    "    \n",
    "    \n",
    "    # table 4\n",
    "    insert_into_arrival = (\"\"\"INSERT INTO arrival (flight_id, arrival, aicao, a_terminal, a_gate,\n",
    "                                                      a_baggage, a_scheduled, a_estimated, a_actual)\n",
    "                                                       VALUES(%s,%s,%s,%s,%s,%s,%s,%s,%s);\"\"\")\n",
    "    row_to_insert4 = (flight_id, arrival, aicao, a_terminal, a_gate, a_baggage, a_scheduled, a_estimated, a_actual)\n",
    "    curr.execute(insert_into_arrival, row_to_insert4)\n"
   ]
  },
  {
   "cell_type": "code",
   "execution_count": 29,
   "id": "a939bdac",
   "metadata": {},
   "outputs": [],
   "source": [
    "def append_from_df_to_db(curr, df):\n",
    "    for i, row in df.iterrows():\n",
    "        insert_into_table(cur, \n",
    "                          row['flight_id'], row['flight_date'], row['flight_status'], row['delay'], \n",
    "                          row['airline_company'], row['dicao'], row['aicao'], row['departure'], row['d_terminal'], row['d_gate'], \n",
    "                          row['d_scheduled'], row['d_estimated'], row['d_actual'], row['arrival'], row['a_terminal'],\n",
    "                          row['a_gate'], row['a_baggage'], row['a_scheduled'], row['a_estimated'], row['a_actual'])"
   ]
  },
  {
   "cell_type": "code",
   "execution_count": 30,
   "id": "1fdfe614",
   "metadata": {},
   "outputs": [],
   "source": [
    "# insert values into db tables\n",
    "append_from_df_to_db(cur, df)\n",
    "conn.commit()"
   ]
  },
  {
   "cell_type": "code",
   "execution_count": 31,
   "id": "1d942086",
   "metadata": {},
   "outputs": [
    {
     "name": "stdout",
     "output_type": "stream",
     "text": [
      "  flight_id flight_date flight_status delay     airline_company\n",
      "0      RTF1  2022-04-28     scheduled  None     JetBlue Airways\n",
      "1      RTF2  2022-04-28     scheduled  None       Qatar Airways\n",
      "2      RTF3  2022-04-28     scheduled  None      Etihad Airways\n",
      "3      RTF4  2022-04-28     scheduled  None  Singapore Airlines\n",
      "4      RTF5  2022-04-28     scheduled  None            Emirates\n",
      "5      RTF6  2022-04-27        landed  None               El Al\n",
      "6      RTF7  2022-04-27        landed  None     JetBlue Airways\n",
      "7      RTF8  2022-04-27        landed  None      Etihad Airways\n",
      "8      RTF9  2022-04-27        landed  None       Qatar Airways\n",
      "9     RTF10  2022-04-27        landed  None  Singapore Airlines\n"
     ]
    }
   ],
   "source": [
    "# contract: \n",
    "cur.execute(\"\"\" SELECT * FROM flight LIMIT 10 \"\"\")\n",
    "\n",
    "d_rows = cur.fetchall()\n",
    "colnames_d = [desc[0] for desc in cur.description]\n",
    "df_d = pd.DataFrame(d_rows, columns = colnames_d)\n",
    "print(df_d)"
   ]
  },
  {
   "cell_type": "code",
   "execution_count": 32,
   "id": "cb7f2fff",
   "metadata": {},
   "outputs": [
    {
     "name": "stdout",
     "output_type": "stream",
     "text": [
      "  flight_id dicao aicao\n",
      "0      RTF1  KJFK  KABQ\n",
      "1      RTF2  KJFK  KABQ\n",
      "2      RTF3  KJFK  KABQ\n",
      "3      RTF4  KJFK  KABQ\n",
      "4      RTF5  KJFK  KABQ\n",
      "5      RTF6  KJFK  KABQ\n",
      "6      RTF7  KJFK  KABQ\n",
      "7      RTF8  KJFK  KABQ\n",
      "8      RTF9  KJFK  KABQ\n",
      "9     RTF10  KJFK  KABQ\n"
     ]
    }
   ],
   "source": [
    "# contract: \n",
    "cur.execute(\"\"\" SELECT * FROM trip LIMIT 10 \"\"\")\n",
    "\n",
    "d_rows = cur.fetchall()\n",
    "colnames_d = [desc[0] for desc in cur.description]\n",
    "df_d = pd.DataFrame(d_rows, columns = colnames_d)\n",
    "print(df_d)"
   ]
  },
  {
   "cell_type": "code",
   "execution_count": 33,
   "id": "0ca558db",
   "metadata": {},
   "outputs": [
    {
     "name": "stdout",
     "output_type": "stream",
     "text": [
      "  flight_id                     departure dicao d_terminal d_gate  \\\n",
      "0      RTF1  John F Kennedy International  KJFK          5     16   \n",
      "1      RTF2  John F Kennedy International  KJFK          5     16   \n",
      "2      RTF3  John F Kennedy International  KJFK          5     16   \n",
      "3      RTF4  John F Kennedy International  KJFK          5     16   \n",
      "4      RTF5  John F Kennedy International  KJFK          5     16   \n",
      "5      RTF6  John F Kennedy International  KJFK          5      9   \n",
      "6      RTF7  John F Kennedy International  KJFK          5      9   \n",
      "7      RTF8  John F Kennedy International  KJFK          5      9   \n",
      "8      RTF9  John F Kennedy International  KJFK          5      9   \n",
      "9     RTF10  John F Kennedy International  KJFK          5      9   \n",
      "\n",
      "                 d_scheduled                d_estimated  \\\n",
      "0  2022-04-28T19:30:00+00:00  2022-04-28T19:30:00+00:00   \n",
      "1  2022-04-28T19:30:00+00:00  2022-04-28T19:30:00+00:00   \n",
      "2  2022-04-28T19:30:00+00:00  2022-04-28T19:30:00+00:00   \n",
      "3  2022-04-28T19:30:00+00:00  2022-04-28T19:30:00+00:00   \n",
      "4  2022-04-28T19:30:00+00:00  2022-04-28T19:30:00+00:00   \n",
      "5  2022-04-27T19:30:00+00:00  2022-04-27T19:30:00+00:00   \n",
      "6  2022-04-27T19:30:00+00:00  2022-04-27T19:30:00+00:00   \n",
      "7  2022-04-27T19:30:00+00:00  2022-04-27T19:30:00+00:00   \n",
      "8  2022-04-27T19:30:00+00:00  2022-04-27T19:30:00+00:00   \n",
      "9  2022-04-27T19:30:00+00:00  2022-04-27T19:30:00+00:00   \n",
      "\n",
      "                    d_actual  \n",
      "0                       None  \n",
      "1                       None  \n",
      "2                       None  \n",
      "3                       None  \n",
      "4                       None  \n",
      "5  2022-04-27T19:55:00+00:00  \n",
      "6  2022-04-27T19:55:00+00:00  \n",
      "7  2022-04-27T19:55:00+00:00  \n",
      "8  2022-04-27T19:55:00+00:00  \n",
      "9  2022-04-27T19:55:00+00:00  \n"
     ]
    }
   ],
   "source": [
    "# contract: \n",
    "cur.execute(\"\"\" SELECT * FROM departure LIMIT 10 \"\"\")\n",
    "\n",
    "d_rows = cur.fetchall()\n",
    "colnames_d = [desc[0] for desc in cur.description]\n",
    "df_d = pd.DataFrame(d_rows, columns = colnames_d)\n",
    "print(df_d)"
   ]
  },
  {
   "cell_type": "code",
   "execution_count": 34,
   "id": "517b99ab",
   "metadata": {},
   "outputs": [
    {
     "name": "stdout",
     "output_type": "stream",
     "text": [
      "  flight_id                    arrival aicao a_baggage a_terminal a_gate  \\\n",
      "0      RTF1  Albuquerque International  KABQ      None       None   None   \n",
      "1      RTF2  Albuquerque International  KABQ      None       None   None   \n",
      "2      RTF3  Albuquerque International  KABQ      None       None   None   \n",
      "3      RTF4  Albuquerque International  KABQ      None       None   None   \n",
      "4      RTF5  Albuquerque International  KABQ      None       None   None   \n",
      "5      RTF6  Albuquerque International  KABQ      None          4   None   \n",
      "6      RTF7  Albuquerque International  KABQ      None          4   None   \n",
      "7      RTF8  Albuquerque International  KABQ      None          4   None   \n",
      "8      RTF9  Albuquerque International  KABQ      None          4   None   \n",
      "9     RTF10  Albuquerque International  KABQ      None          4   None   \n",
      "\n",
      "                 a_scheduled                a_estimated  \\\n",
      "0  2022-04-28T22:43:00+00:00  2022-04-28T22:43:00+00:00   \n",
      "1  2022-04-28T22:43:00+00:00  2022-04-28T22:43:00+00:00   \n",
      "2  2022-04-28T22:43:00+00:00  2022-04-28T22:43:00+00:00   \n",
      "3  2022-04-28T22:43:00+00:00  2022-04-28T22:43:00+00:00   \n",
      "4  2022-04-28T22:43:00+00:00  2022-04-28T22:43:00+00:00   \n",
      "5  2022-04-27T22:43:00+00:00  2022-04-27T22:43:00+00:00   \n",
      "6  2022-04-27T22:43:00+00:00  2022-04-27T22:43:00+00:00   \n",
      "7  2022-04-27T22:43:00+00:00  2022-04-27T22:43:00+00:00   \n",
      "8  2022-04-27T22:43:00+00:00  2022-04-27T22:43:00+00:00   \n",
      "9  2022-04-27T22:43:00+00:00  2022-04-27T22:43:00+00:00   \n",
      "\n",
      "                    a_actual  \n",
      "0                       None  \n",
      "1                       None  \n",
      "2                       None  \n",
      "3                       None  \n",
      "4                       None  \n",
      "5  2022-04-27T22:10:00+00:00  \n",
      "6  2022-04-27T22:10:00+00:00  \n",
      "7  2022-04-27T22:10:00+00:00  \n",
      "8  2022-04-27T22:10:00+00:00  \n",
      "9  2022-04-27T22:10:00+00:00  \n"
     ]
    }
   ],
   "source": [
    "# contract: \n",
    "cur.execute(\"\"\" SELECT * FROM arrival LIMIT 10 \"\"\")\n",
    "\n",
    "d_rows = cur.fetchall()\n",
    "colnames_d = [desc[0] for desc in cur.description]\n",
    "df_d = pd.DataFrame(d_rows, columns = colnames_d)\n",
    "print(df_d)"
   ]
  },
  {
   "cell_type": "markdown",
   "id": "0059df09",
   "metadata": {},
   "source": [
    "## Join data from different database"
   ]
  },
  {
   "cell_type": "code",
   "execution_count": 35,
   "id": "e36b1050",
   "metadata": {},
   "outputs": [],
   "source": [
    "import pymongo\n",
    "import pandas as pd\n",
    "from pymongo import MongoClient\n",
    "client = MongoClient()\n",
    "db = client['1234']\n",
    "collection = db['1234']\n",
    "df_checkwx = pd.DataFrame(list(collection.find()))"
   ]
  },
  {
   "cell_type": "code",
   "execution_count": 45,
   "id": "0436ea0b",
   "metadata": {
    "scrolled": true
   },
   "outputs": [],
   "source": [
    "# Select the column we needs\n",
    "checkwx =  df_checkwx[['icao','observed', 'temperature','rain','humidity','clouds', 'elevation','visibility','wind']]"
   ]
  },
  {
   "cell_type": "code",
   "execution_count": 38,
   "id": "1c9b1277",
   "metadata": {
    "scrolled": true
   },
   "outputs": [
    {
     "name": "stderr",
     "output_type": "stream",
     "text": [
      "C:\\Users\\sayua\\AppData\\Local\\Temp/ipykernel_15500/3321387330.py:2: SettingWithCopyWarning: \n",
      "A value is trying to be set on a copy of a slice from a DataFrame.\n",
      "Try using .loc[row_indexer,col_indexer] = value instead\n",
      "\n",
      "See the caveats in the documentation: https://pandas.pydata.org/pandas-docs/stable/user_guide/indexing.html#returning-a-view-versus-a-copy\n",
      "  checkwx['observed']=pd.to_datetime(checkwx['observed'], format='%Y/%m/%d %H:%M:%S')\n"
     ]
    }
   ],
   "source": [
    "# Convert observed time from object type to timestamp type\n",
    "checkwx['observed']=pd.to_datetime(checkwx['observed'], format='%Y/%m/%d %H:%M:%S')\n",
    "# Only keep the latest data\n",
    "checkwx = checkwx.drop_duplicates(subset=['icao'], keep='last')\n"
   ]
  },
  {
   "cell_type": "code",
   "execution_count": 39,
   "id": "dcd63982",
   "metadata": {
    "scrolled": true
   },
   "outputs": [
    {
     "data": {
      "text/plain": [
       "KSPI    1\n",
       "KONT    1\n",
       "KSFB    1\n",
       "KPBI    1\n",
       "KPHL    1\n",
       "       ..\n",
       "KMKE    1\n",
       "KPIA    1\n",
       "KIAH    1\n",
       "KROC    1\n",
       "KFFO    1\n",
       "Name: icao, Length: 166, dtype: int64"
      ]
     },
     "execution_count": 39,
     "metadata": {},
     "output_type": "execute_result"
    }
   ],
   "source": [
    "# Check if data contains duplicate\n",
    "checkwx['icao'].value_counts()"
   ]
  },
  {
   "cell_type": "code",
   "execution_count": 46,
   "id": "096053e2",
   "metadata": {
    "scrolled": true
   },
   "outputs": [],
   "source": [
    "# Rename the weather data for front-end\n",
    "checkwx_rename = checkwx.rename(columns={'icao': 'Arrival Airport ID','observed': 'Weather observed time','temperature': 'Temperature',\n",
    "                              'rain': 'Rain','humidity': 'Humidity','clouds': 'Clouds',\n",
    "                              'elevation': 'Elevation','visibility': 'Visibility','wind': 'Wind'})"
   ]
  },
  {
   "cell_type": "code",
   "execution_count": 47,
   "id": "da24fe2d",
   "metadata": {},
   "outputs": [],
   "source": [
    "# Rename the flight data for front-end\n",
    "df_flight =df[['aicao','dicao','airline_company','a_scheduled','a_terminal','a_gate','a_baggage','arrival', 'd_scheduled','d_gate','d_terminal','delay','departure','flight_id','flight_status']]\n",
    "df_flight_rename = df_flight.rename(columns={'airline_company': 'Airline','a_scheduled': 'Arriving scheduled time','a_terminal': 'Arriving terminal',\n",
    "                              'a_gate': 'Arriving gate','a_baggage': 'baggage line','arrival': 'Arrival airport',\n",
    "                              'd_scheduled': 'Departure scheduled time','d_gate': 'Departure gate','d_terminal': 'Departure terminal','departure': 'Departure airpoty',\n",
    "                              'flight_id': 'Flight ID','flight_status': 'Flight Status','delay': 'Delay',\n",
    "                                            'aicao': 'Arrival Airport ID','dicao': 'Departure Airport ID'})"
   ]
  },
  {
   "cell_type": "code",
   "execution_count": 48,
   "id": "458fb27b",
   "metadata": {},
   "outputs": [
    {
     "data": {
      "text/html": [
       "<div>\n",
       "<style scoped>\n",
       "    .dataframe tbody tr th:only-of-type {\n",
       "        vertical-align: middle;\n",
       "    }\n",
       "\n",
       "    .dataframe tbody tr th {\n",
       "        vertical-align: top;\n",
       "    }\n",
       "\n",
       "    .dataframe thead th {\n",
       "        text-align: right;\n",
       "    }\n",
       "</style>\n",
       "<table border=\"1\" class=\"dataframe\">\n",
       "  <thead>\n",
       "    <tr style=\"text-align: right;\">\n",
       "      <th></th>\n",
       "      <th>Arrival Airport ID</th>\n",
       "      <th>Departure Airport ID</th>\n",
       "      <th>Airline</th>\n",
       "      <th>Arriving scheduled time</th>\n",
       "      <th>Arriving terminal</th>\n",
       "      <th>Arriving gate</th>\n",
       "      <th>baggage line</th>\n",
       "      <th>Arrival airport</th>\n",
       "      <th>Departure scheduled time</th>\n",
       "      <th>Departure gate</th>\n",
       "      <th>Departure terminal</th>\n",
       "      <th>Delay</th>\n",
       "      <th>Departure airpoty</th>\n",
       "      <th>Flight ID</th>\n",
       "      <th>Flight Status</th>\n",
       "      <th>Weather observed time</th>\n",
       "      <th>Temperature</th>\n",
       "      <th>Rain</th>\n",
       "      <th>Humidity</th>\n",
       "      <th>Clouds</th>\n",
       "      <th>Elevation</th>\n",
       "      <th>Visibility</th>\n",
       "      <th>Wind</th>\n",
       "    </tr>\n",
       "  </thead>\n",
       "  <tbody>\n",
       "    <tr>\n",
       "      <th>0</th>\n",
       "      <td>KABQ</td>\n",
       "      <td>KJFK</td>\n",
       "      <td>JetBlue Airways</td>\n",
       "      <td>2022-04-28T22:43:00+00:00</td>\n",
       "      <td>None</td>\n",
       "      <td>None</td>\n",
       "      <td>None</td>\n",
       "      <td>Albuquerque International</td>\n",
       "      <td>2022-04-28T19:30:00+00:00</td>\n",
       "      <td>16</td>\n",
       "      <td>5</td>\n",
       "      <td>None</td>\n",
       "      <td>John F Kennedy International</td>\n",
       "      <td>RTF1</td>\n",
       "      <td>scheduled</td>\n",
       "      <td>2022-04-25T19:52Z</td>\n",
       "      <td>{'celsius': 17, 'fahrenheit': 63}</td>\n",
       "      <td>NaN</td>\n",
       "      <td>{'percent': 19}</td>\n",
       "      <td>[{'base_feet_agl': 9000, 'base_meters_agl': 27...</td>\n",
       "      <td>{'feet': 5315, 'meters': 1620}</td>\n",
       "      <td>{'meters': '16,100', 'meters_float': 16100.0, ...</td>\n",
       "      <td>{'degrees': 0, 'speed_kph': 7, 'speed_kts': 4,...</td>\n",
       "    </tr>\n",
       "    <tr>\n",
       "      <th>1</th>\n",
       "      <td>KABQ</td>\n",
       "      <td>KJFK</td>\n",
       "      <td>JetBlue Airways</td>\n",
       "      <td>2022-04-28T22:43:00+00:00</td>\n",
       "      <td>None</td>\n",
       "      <td>None</td>\n",
       "      <td>None</td>\n",
       "      <td>Albuquerque International</td>\n",
       "      <td>2022-04-28T19:30:00+00:00</td>\n",
       "      <td>16</td>\n",
       "      <td>5</td>\n",
       "      <td>None</td>\n",
       "      <td>John F Kennedy International</td>\n",
       "      <td>RTF1</td>\n",
       "      <td>scheduled</td>\n",
       "      <td>2022-04-28T22:25Z</td>\n",
       "      <td>{'celsius': 26, 'fahrenheit': 79}</td>\n",
       "      <td>NaN</td>\n",
       "      <td>{'percent': 7}</td>\n",
       "      <td>[{'base_feet_agl': 25000, 'base_meters_agl': 7...</td>\n",
       "      <td>{'feet': 5315, 'meters': 1620}</td>\n",
       "      <td>{'meters': '16,100', 'meters_float': 16100.0, ...</td>\n",
       "      <td>{'degrees': 180, 'gust_kph': 33, 'gust_kts': 1...</td>\n",
       "    </tr>\n",
       "    <tr>\n",
       "      <th>2</th>\n",
       "      <td>KABQ</td>\n",
       "      <td>KJFK</td>\n",
       "      <td>Qatar Airways</td>\n",
       "      <td>2022-04-28T22:43:00+00:00</td>\n",
       "      <td>None</td>\n",
       "      <td>None</td>\n",
       "      <td>None</td>\n",
       "      <td>Albuquerque International</td>\n",
       "      <td>2022-04-28T19:30:00+00:00</td>\n",
       "      <td>16</td>\n",
       "      <td>5</td>\n",
       "      <td>None</td>\n",
       "      <td>John F Kennedy International</td>\n",
       "      <td>RTF2</td>\n",
       "      <td>scheduled</td>\n",
       "      <td>2022-04-25T19:52Z</td>\n",
       "      <td>{'celsius': 17, 'fahrenheit': 63}</td>\n",
       "      <td>NaN</td>\n",
       "      <td>{'percent': 19}</td>\n",
       "      <td>[{'base_feet_agl': 9000, 'base_meters_agl': 27...</td>\n",
       "      <td>{'feet': 5315, 'meters': 1620}</td>\n",
       "      <td>{'meters': '16,100', 'meters_float': 16100.0, ...</td>\n",
       "      <td>{'degrees': 0, 'speed_kph': 7, 'speed_kts': 4,...</td>\n",
       "    </tr>\n",
       "    <tr>\n",
       "      <th>3</th>\n",
       "      <td>KABQ</td>\n",
       "      <td>KJFK</td>\n",
       "      <td>Qatar Airways</td>\n",
       "      <td>2022-04-28T22:43:00+00:00</td>\n",
       "      <td>None</td>\n",
       "      <td>None</td>\n",
       "      <td>None</td>\n",
       "      <td>Albuquerque International</td>\n",
       "      <td>2022-04-28T19:30:00+00:00</td>\n",
       "      <td>16</td>\n",
       "      <td>5</td>\n",
       "      <td>None</td>\n",
       "      <td>John F Kennedy International</td>\n",
       "      <td>RTF2</td>\n",
       "      <td>scheduled</td>\n",
       "      <td>2022-04-28T22:25Z</td>\n",
       "      <td>{'celsius': 26, 'fahrenheit': 79}</td>\n",
       "      <td>NaN</td>\n",
       "      <td>{'percent': 7}</td>\n",
       "      <td>[{'base_feet_agl': 25000, 'base_meters_agl': 7...</td>\n",
       "      <td>{'feet': 5315, 'meters': 1620}</td>\n",
       "      <td>{'meters': '16,100', 'meters_float': 16100.0, ...</td>\n",
       "      <td>{'degrees': 180, 'gust_kph': 33, 'gust_kts': 1...</td>\n",
       "    </tr>\n",
       "    <tr>\n",
       "      <th>4</th>\n",
       "      <td>KABQ</td>\n",
       "      <td>KJFK</td>\n",
       "      <td>Etihad Airways</td>\n",
       "      <td>2022-04-28T22:43:00+00:00</td>\n",
       "      <td>None</td>\n",
       "      <td>None</td>\n",
       "      <td>None</td>\n",
       "      <td>Albuquerque International</td>\n",
       "      <td>2022-04-28T19:30:00+00:00</td>\n",
       "      <td>16</td>\n",
       "      <td>5</td>\n",
       "      <td>None</td>\n",
       "      <td>John F Kennedy International</td>\n",
       "      <td>RTF3</td>\n",
       "      <td>scheduled</td>\n",
       "      <td>2022-04-25T19:52Z</td>\n",
       "      <td>{'celsius': 17, 'fahrenheit': 63}</td>\n",
       "      <td>NaN</td>\n",
       "      <td>{'percent': 19}</td>\n",
       "      <td>[{'base_feet_agl': 9000, 'base_meters_agl': 27...</td>\n",
       "      <td>{'feet': 5315, 'meters': 1620}</td>\n",
       "      <td>{'meters': '16,100', 'meters_float': 16100.0, ...</td>\n",
       "      <td>{'degrees': 0, 'speed_kph': 7, 'speed_kts': 4,...</td>\n",
       "    </tr>\n",
       "  </tbody>\n",
       "</table>\n",
       "</div>"
      ],
      "text/plain": [
       "  Arrival Airport ID Departure Airport ID          Airline  \\\n",
       "0               KABQ                 KJFK  JetBlue Airways   \n",
       "1               KABQ                 KJFK  JetBlue Airways   \n",
       "2               KABQ                 KJFK    Qatar Airways   \n",
       "3               KABQ                 KJFK    Qatar Airways   \n",
       "4               KABQ                 KJFK   Etihad Airways   \n",
       "\n",
       "     Arriving scheduled time Arriving terminal Arriving gate baggage line  \\\n",
       "0  2022-04-28T22:43:00+00:00              None          None         None   \n",
       "1  2022-04-28T22:43:00+00:00              None          None         None   \n",
       "2  2022-04-28T22:43:00+00:00              None          None         None   \n",
       "3  2022-04-28T22:43:00+00:00              None          None         None   \n",
       "4  2022-04-28T22:43:00+00:00              None          None         None   \n",
       "\n",
       "             Arrival airport   Departure scheduled time Departure gate  \\\n",
       "0  Albuquerque International  2022-04-28T19:30:00+00:00             16   \n",
       "1  Albuquerque International  2022-04-28T19:30:00+00:00             16   \n",
       "2  Albuquerque International  2022-04-28T19:30:00+00:00             16   \n",
       "3  Albuquerque International  2022-04-28T19:30:00+00:00             16   \n",
       "4  Albuquerque International  2022-04-28T19:30:00+00:00             16   \n",
       "\n",
       "  Departure terminal Delay             Departure airpoty Flight ID  \\\n",
       "0                  5  None  John F Kennedy International      RTF1   \n",
       "1                  5  None  John F Kennedy International      RTF1   \n",
       "2                  5  None  John F Kennedy International      RTF2   \n",
       "3                  5  None  John F Kennedy International      RTF2   \n",
       "4                  5  None  John F Kennedy International      RTF3   \n",
       "\n",
       "  Flight Status Weather observed time                        Temperature Rain  \\\n",
       "0     scheduled     2022-04-25T19:52Z  {'celsius': 17, 'fahrenheit': 63}  NaN   \n",
       "1     scheduled     2022-04-28T22:25Z  {'celsius': 26, 'fahrenheit': 79}  NaN   \n",
       "2     scheduled     2022-04-25T19:52Z  {'celsius': 17, 'fahrenheit': 63}  NaN   \n",
       "3     scheduled     2022-04-28T22:25Z  {'celsius': 26, 'fahrenheit': 79}  NaN   \n",
       "4     scheduled     2022-04-25T19:52Z  {'celsius': 17, 'fahrenheit': 63}  NaN   \n",
       "\n",
       "          Humidity                                             Clouds  \\\n",
       "0  {'percent': 19}  [{'base_feet_agl': 9000, 'base_meters_agl': 27...   \n",
       "1   {'percent': 7}  [{'base_feet_agl': 25000, 'base_meters_agl': 7...   \n",
       "2  {'percent': 19}  [{'base_feet_agl': 9000, 'base_meters_agl': 27...   \n",
       "3   {'percent': 7}  [{'base_feet_agl': 25000, 'base_meters_agl': 7...   \n",
       "4  {'percent': 19}  [{'base_feet_agl': 9000, 'base_meters_agl': 27...   \n",
       "\n",
       "                        Elevation  \\\n",
       "0  {'feet': 5315, 'meters': 1620}   \n",
       "1  {'feet': 5315, 'meters': 1620}   \n",
       "2  {'feet': 5315, 'meters': 1620}   \n",
       "3  {'feet': 5315, 'meters': 1620}   \n",
       "4  {'feet': 5315, 'meters': 1620}   \n",
       "\n",
       "                                          Visibility  \\\n",
       "0  {'meters': '16,100', 'meters_float': 16100.0, ...   \n",
       "1  {'meters': '16,100', 'meters_float': 16100.0, ...   \n",
       "2  {'meters': '16,100', 'meters_float': 16100.0, ...   \n",
       "3  {'meters': '16,100', 'meters_float': 16100.0, ...   \n",
       "4  {'meters': '16,100', 'meters_float': 16100.0, ...   \n",
       "\n",
       "                                                Wind  \n",
       "0  {'degrees': 0, 'speed_kph': 7, 'speed_kts': 4,...  \n",
       "1  {'degrees': 180, 'gust_kph': 33, 'gust_kts': 1...  \n",
       "2  {'degrees': 0, 'speed_kph': 7, 'speed_kts': 4,...  \n",
       "3  {'degrees': 180, 'gust_kph': 33, 'gust_kts': 1...  \n",
       "4  {'degrees': 0, 'speed_kph': 7, 'speed_kts': 4,...  "
      ]
     },
     "execution_count": 48,
     "metadata": {},
     "output_type": "execute_result"
    }
   ],
   "source": [
    "# Review all the columns\n",
    "pd.set_option('display.max_columns', 500)\n",
    "\n",
    "# Inner join two dataset based on icao\n",
    "F_end = pd.merge(df_flight_rename, checkwx_rename, how='inner', on=['Arrival Airport ID'])\n",
    "F_end.head()"
   ]
  },
  {
   "cell_type": "markdown",
   "id": "d59c5648",
   "metadata": {},
   "source": [
    "## Data Storing"
   ]
  },
  {
   "cell_type": "code",
   "execution_count": 44,
   "id": "562597e6",
   "metadata": {},
   "outputs": [],
   "source": [
    "F_end.to_csv('Front end dataset.csv')"
   ]
  }
 ],
 "metadata": {
  "kernelspec": {
   "display_name": "Python 3 (ipykernel)",
   "language": "python",
   "name": "python3"
  },
  "language_info": {
   "codemirror_mode": {
    "name": "ipython",
    "version": 3
   },
   "file_extension": ".py",
   "mimetype": "text/x-python",
   "name": "python",
   "nbconvert_exporter": "python",
   "pygments_lexer": "ipython3",
   "version": "3.8.11"
  },
  "varInspector": {
   "cols": {
    "lenName": 16,
    "lenType": 16,
    "lenVar": 40
   },
   "kernels_config": {
    "python": {
     "delete_cmd_postfix": "",
     "delete_cmd_prefix": "del ",
     "library": "var_list.py",
     "varRefreshCmd": "print(var_dic_list())"
    },
    "r": {
     "delete_cmd_postfix": ") ",
     "delete_cmd_prefix": "rm(",
     "library": "var_list.r",
     "varRefreshCmd": "cat(var_dic_list()) "
    }
   },
   "types_to_exclude": [
    "module",
    "function",
    "builtin_function_or_method",
    "instance",
    "_Feature"
   ],
   "window_display": false
  }
 },
 "nbformat": 4,
 "nbformat_minor": 5
}
